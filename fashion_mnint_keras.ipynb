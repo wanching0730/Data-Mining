{
 "cells": [
  {
   "cell_type": "code",
   "execution_count": 1,
   "metadata": {},
   "outputs": [
    {
     "name": "stderr",
     "output_type": "stream",
     "text": [
      "Using TensorFlow backend.\n"
     ]
    }
   ],
   "source": [
    "from __future__ import print_function\n",
    "import numpy as np\n",
    "import keras\n",
    "from keras.datasets import fashion_mnist\n",
    "from keras.models import Sequential\n",
    "from keras.layers import Dense, Dropout, Flatten\n",
    "from keras.layers import Conv2D, MaxPooling2D\n",
    "from keras import backend as K"
   ]
  },
  {
   "cell_type": "code",
   "execution_count": 2,
   "metadata": {
    "scrolled": true
   },
   "outputs": [
    {
     "name": "stdout",
     "output_type": "stream",
     "text": [
      "x_train shape: (60000, 28, 28, 1)\n",
      "60000 train samples\n",
      "10000 test samples\n",
      "Train on 60000 samples, validate on 10000 samples\n",
      "Epoch 1/30\n",
      "60000/60000 [==============================] - 85s 1ms/step - loss: 0.4963 - acc: 0.8266 - val_loss: 0.3315 - val_acc: 0.8786\n",
      "Epoch 2/30\n",
      "60000/60000 [==============================] - 55s 922us/step - loss: 0.3169 - acc: 0.8875 - val_loss: 0.2697 - val_acc: 0.9021\n",
      "Epoch 3/30\n",
      "60000/60000 [==============================] - 62s 1ms/step - loss: 0.2713 - acc: 0.9025 - val_loss: 0.2397 - val_acc: 0.9117\n",
      "Epoch 4/30\n",
      "60000/60000 [==============================] - 57s 942us/step - loss: 0.2387 - acc: 0.9129 - val_loss: 0.2364 - val_acc: 0.9145\n",
      "Epoch 5/30\n",
      "60000/60000 [==============================] - 60s 1ms/step - loss: 0.2130 - acc: 0.9221 - val_loss: 0.2293 - val_acc: 0.9174\n",
      "Epoch 6/30\n",
      "60000/60000 [==============================] - 55s 915us/step - loss: 0.1989 - acc: 0.9260 - val_loss: 0.2253 - val_acc: 0.9192\n",
      "Epoch 7/30\n",
      "60000/60000 [==============================] - 56s 933us/step - loss: 0.1823 - acc: 0.9318 - val_loss: 0.2290 - val_acc: 0.9185\n",
      "Epoch 8/30\n",
      "60000/60000 [==============================] - 55s 916us/step - loss: 0.1707 - acc: 0.9363 - val_loss: 0.2219 - val_acc: 0.9248\n",
      "Epoch 9/30\n",
      "60000/60000 [==============================] - 55s 913us/step - loss: 0.1599 - acc: 0.9397 - val_loss: 0.2168 - val_acc: 0.9259\n",
      "Epoch 10/30\n",
      "60000/60000 [==============================] - 55s 917us/step - loss: 0.1509 - acc: 0.9433 - val_loss: 0.2203 - val_acc: 0.9237\n",
      "Epoch 11/30\n",
      "60000/60000 [==============================] - 54s 906us/step - loss: 0.1366 - acc: 0.9481 - val_loss: 0.2257 - val_acc: 0.9274\n",
      "Epoch 12/30\n",
      "60000/60000 [==============================] - 55s 914us/step - loss: 0.1339 - acc: 0.9495 - val_loss: 0.2302 - val_acc: 0.9296\n",
      "Epoch 13/30\n",
      "60000/60000 [==============================] - 56s 925us/step - loss: 0.1256 - acc: 0.9519 - val_loss: 0.2260 - val_acc: 0.9295\n",
      "Epoch 14/30\n",
      "60000/60000 [==============================] - 56s 932us/step - loss: 0.1213 - acc: 0.9526 - val_loss: 0.2339 - val_acc: 0.9282\n",
      "Epoch 15/30\n",
      "60000/60000 [==============================] - 55s 918us/step - loss: 0.1161 - acc: 0.9548 - val_loss: 0.2320 - val_acc: 0.9273\n",
      "Epoch 16/30\n",
      "60000/60000 [==============================] - 55s 910us/step - loss: 0.1106 - acc: 0.9564 - val_loss: 0.2442 - val_acc: 0.9299\n",
      "Epoch 17/30\n",
      "60000/60000 [==============================] - 54s 908us/step - loss: 0.1087 - acc: 0.9576 - val_loss: 0.2322 - val_acc: 0.9293\n",
      "Epoch 18/30\n",
      "60000/60000 [==============================] - 54s 908us/step - loss: 0.1066 - acc: 0.9589 - val_loss: 0.2530 - val_acc: 0.9294\n",
      "Epoch 19/30\n",
      "60000/60000 [==============================] - 55s 914us/step - loss: 0.1006 - acc: 0.9609 - val_loss: 0.2591 - val_acc: 0.9266\n",
      "Epoch 20/30\n",
      "60000/60000 [==============================] - 54s 907us/step - loss: 0.0959 - acc: 0.9622 - val_loss: 0.2674 - val_acc: 0.9301\n",
      "Epoch 21/30\n",
      "60000/60000 [==============================] - 54s 906us/step - loss: 0.0956 - acc: 0.9633 - val_loss: 0.2655 - val_acc: 0.9293\n",
      "Epoch 22/30\n",
      "60000/60000 [==============================] - 55s 911us/step - loss: 0.0933 - acc: 0.9634 - val_loss: 0.2850 - val_acc: 0.9263\n",
      "Epoch 23/30\n",
      "60000/60000 [==============================] - 55s 913us/step - loss: 0.0909 - acc: 0.9656 - val_loss: 0.2764 - val_acc: 0.9272\n",
      "Epoch 24/30\n",
      "60000/60000 [==============================] - 55s 921us/step - loss: 0.0914 - acc: 0.9647 - val_loss: 0.2858 - val_acc: 0.9283\n",
      "Epoch 25/30\n",
      "60000/60000 [==============================] - 55s 924us/step - loss: 0.0867 - acc: 0.9659 - val_loss: 0.2822 - val_acc: 0.9256\n",
      "Epoch 26/30\n",
      "60000/60000 [==============================] - 56s 938us/step - loss: 0.0856 - acc: 0.9670 - val_loss: 0.2674 - val_acc: 0.9274\n",
      "Epoch 27/30\n",
      "60000/60000 [==============================] - 56s 931us/step - loss: 0.0829 - acc: 0.9679 - val_loss: 0.2989 - val_acc: 0.9286\n",
      "Epoch 28/30\n",
      "60000/60000 [==============================] - 56s 931us/step - loss: 0.0828 - acc: 0.9684 - val_loss: 0.2836 - val_acc: 0.9293\n",
      "Epoch 29/30\n",
      "60000/60000 [==============================] - 55s 917us/step - loss: 0.0781 - acc: 0.9699 - val_loss: 0.3059 - val_acc: 0.9284\n",
      "Epoch 30/30\n",
      "60000/60000 [==============================] - 54s 905us/step - loss: 0.0798 - acc: 0.9689 - val_loss: 0.3083 - val_acc: 0.9306\n",
      "Test loss: 0.3082856709264219\n",
      "Test accuracy: 0.9306\n"
     ]
    }
   ],
   "source": [
    "batch_size = 128\n",
    "num_classes = 10\n",
    "epochs = 30\n",
    "\n",
    "# input image dimensions\n",
    "img_rows, img_cols = 28, 28\n",
    "\n",
    "# the data, shuffled and split between train and test sets\n",
    "(x_train, y_train), (x_test, y_test) = fashion_mnist.load_data()\n",
    "\n",
    "x_train = np.array(x_train)\n",
    "y_train = np.array(y_train)\n",
    "x_test = np.array(x_test)\n",
    "y_test = np.array(y_test)\n",
    "\n",
    "if K.image_data_format() == 'channels_first':\n",
    "    x_train = x_train.reshape(x_train.shape[0], 1, img_rows, img_cols)\n",
    "    x_test = x_test.reshape(x_test.shape[0], 1, img_rows, img_cols)\n",
    "    input_shape = (1, img_rows, img_cols)\n",
    "else:\n",
    "    x_train = x_train.reshape(x_train.shape[0], img_rows, img_cols, 1)\n",
    "    x_test = x_test.reshape(x_test.shape[0], img_rows, img_cols, 1)\n",
    "    input_shape = (img_rows, img_cols, 1)\n",
    "\n",
    "x_train = x_train.astype('float32')\n",
    "x_test = x_test.astype('float32')\n",
    "x_train /= 255\n",
    "x_test /= 255\n",
    "print('x_train shape:', x_train.shape)\n",
    "print(x_train.shape[0], 'train samples')\n",
    "print(x_test.shape[0], 'test samples')\n",
    "\n",
    "# convert class vectors to binary class matrices\n",
    "y_train = keras.utils.to_categorical(y_train, num_classes)\n",
    "y_test = keras.utils.to_categorical(y_test, num_classes)\n",
    "\n",
    "model = Sequential()\n",
    "model.add(Conv2D(32, kernel_size=(3, 3),\n",
    "                 activation='relu',\n",
    "                 input_shape=input_shape))\n",
    "model.add(Conv2D(64, (3, 3), activation='relu'))\n",
    "model.add(MaxPooling2D(pool_size=(2, 2)))\n",
    "model.add(Dropout(0.25))\n",
    "model.add(Flatten())\n",
    "model.add(Dense(128, activation='relu'))\n",
    "model.add(Dropout(0.5))\n",
    "model.add(Dense(num_classes, activation='softmax'))\n",
    "\n",
    "model.compile(loss=keras.losses.categorical_crossentropy,\n",
    "              optimizer=keras.optimizers.Nadam(),\n",
    "              metrics=['accuracy'])\n",
    "\n",
    "history = model.fit(x_train, y_train,\n",
    "          batch_size=batch_size,\n",
    "          epochs=epochs,\n",
    "          verbose=1,\n",
    "          validation_data=(x_test, y_test))\n",
    "score = model.evaluate(x_test, y_test, verbose=0)\n",
    "print('Test loss:', score[0])\n",
    "print('Test accuracy:', score[1])"
   ]
  },
  {
   "cell_type": "code",
   "execution_count": 4,
   "metadata": {},
   "outputs": [
    {
     "data": {
      "image/png": "[encoded data removed]",
      "text/plain": [
       "<matplotlib.figure.Figure at 0x24633404ef0>"
      ]
     },
     "metadata": {},
     "output_type": "display_data"
    },
    {
     "data": {
      "image/png": "[encoded data removed]",
      "text/plain": [
       "<matplotlib.figure.Figure at 0x245c831f860>"
      ]
     },
     "metadata": {},
     "output_type": "display_data"
    }
   ],
   "source": [
    "import matplotlib.pyplot as plt\n",
    "def show_history(history):\n",
    "    plt.plot(history.history['acc'])\n",
    "    plt.plot(history.history['val_acc'])\n",
    "    plt.ylabel('accuracy')\n",
    "    plt.xlabel('epoch')\n",
    "    plt.legend(['train_accuracy', 'test_accuracy'], loc='best')\n",
    "    plt.show()\n",
    "\n",
    "show_history(history)\n",
    "\n",
    "plt.hist(history.history['acc'])\n",
    "plt.hist(history.history['val_acc'])\n",
    "plt.ylabel('accuracy')\n",
    "plt.xlabel('epoch')\n",
    "plt.legend(['train_accuracy', 'test_accuracy'], loc='best')\n",
    "plt.show()"
   ]
  },
  {
   "cell_type": "code",
   "execution_count": 5,
   "metadata": {},
   "outputs": [
    {
     "name": "stdout",
     "output_type": "stream",
     "text": [
      "{'val_loss': [0.3315495579957962, 0.2697103892326355, 0.2396715804338455, 0.23641680693626405, 0.2292893506526947, 0.22533405702114107, 0.2290089816093445, 0.2219184334695339, 0.21683957970142365, 0.22033744515180587, 0.2257301327943802, 0.2301691774725914, 0.2259603541612625, 0.23389079716205596, 0.23196174731254576, 0.24416035882234574, 0.23223263840079308, 0.25298621531128884, 0.25908181511163714, 0.26740780838578937, 0.2655435257807374, 0.2849639635384083, 0.2764328955888748, 0.28584867643117906, 0.2822057371497154, 0.26737011898756025, 0.2988872812867165, 0.28357408494949343, 0.30586964218616486, 0.30828567144870755], 'val_acc': [0.8786, 0.9021, 0.9117, 0.9145, 0.9174, 0.9192, 0.9185, 0.9248, 0.9259, 0.9237, 0.9274, 0.9296, 0.9295, 0.9282, 0.9273, 0.9299, 0.9293, 0.9294, 0.9266, 0.9301, 0.9293, 0.9263, 0.9272, 0.9283, 0.9256, 0.9274, 0.9286, 0.9293, 0.9284, 0.9306], 'loss': [0.49625667074521385, 0.31694152692159017, 0.27132424974441527, 0.23873643435637157, 0.21296205841700236, 0.1988963770866394, 0.18233005811373393, 0.17067904589176178, 0.15986560308138528, 0.15090943767229717, 0.1365966275691986, 0.13391922712723414, 0.12558399974505108, 0.1213306359410286, 0.11610005069971084, 0.11058491753737132, 0.10868850084543229, 0.10655862876971563, 0.1005789807677269, 0.0958740266640981, 0.09556990385452906, 0.09332175789972147, 0.09091109033425648, 0.0914208661854267, 0.08673428135712942, 0.0856073314944903, 0.0829228028545777, 0.08283341203927994, 0.07808968913654486, 0.07978073654373487], 'acc': [0.8266333333651225, 0.8875166666348775, 0.9025166666348775, 0.9128833333651225, 0.9221333333015442, 0.926, 0.9317666666348775, 0.9363333333651225, 0.9397333333651224, 0.9432666666666667, 0.9481000000317892, 0.9495000000317891, 0.9518666666666666, 0.9526499999682109, 0.9548166666984558, 0.9564166666348776, 0.9575666666666667, 0.9588666666348775, 0.9608666666348775, 0.9621833333651225, 0.9632666666666667, 0.9634166666666667, 0.9656, 0.9646666666666667, 0.9659166666666666, 0.9669666666666666, 0.9678666666984558, 0.9683666666984558, 0.9699, 0.9688833333015442]}\n"
     ]
    }
   ],
   "source": [
    "print(history.history)"
   ]
  }
 ],
 "metadata": {
  "kernelspec": {
   "display_name": "Python 3",
   "language": "python",
   "name": "python3"
  },
  "language_info": {
   "codemirror_mode": {
    "name": "ipython",
    "version": 3
   },
   "file_extension": ".py",
   "mimetype": "text/x-python",
   "name": "python",
   "nbconvert_exporter": "python",
   "pygments_lexer": "ipython3",
   "version": "3.6.4"
  }
 },
 "nbformat": 4,
 "nbformat_minor": 2
}
