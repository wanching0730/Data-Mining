{
 "cells": [
  {
   "cell_type": "code",
   "execution_count": 1,
   "metadata": {},
   "outputs": [
    {
     "name": "stderr",
     "output_type": "stream",
     "text": [
      "C:\\ProgramData\\Anaconda3\\lib\\site-packages\\h5py\\__init__.py:36: FutureWarning: Conversion of the second argument of issubdtype from `float` to `np.floating` is deprecated. In future, it will be treated as `np.float64 == np.dtype(float).type`.\n",
      "  from ._conv import register_converters as _register_converters\n"
     ]
    }
   ],
   "source": [
    "import tensorflow as tf\n",
    "import csv\n",
    "import numpy as np\n",
    "import pandas as pd\n",
    "import matplotlib.pyplot as plt\n",
    "import utils.reader as reader"
   ]
  },
  {
   "cell_type": "code",
   "execution_count": 2,
   "metadata": {},
   "outputs": [],
   "source": [
    "train_file = '../input/fashion-mnist_train.csv'\n",
    "test_file = '../input/fashion-mnist_test.csv'"
   ]
  },
  {
   "cell_type": "code",
   "execution_count": 3,
   "metadata": {},
   "outputs": [
    {
     "name": "stdout",
     "output_type": "stream",
     "text": [
      "INFO:tensorflow:Using default config.\n",
      "INFO:tensorflow:Using config: {'_model_dir': './fashion-model', '_tf_random_seed': None, '_save_summary_steps': 100, '_save_checkpoints_steps': None, '_save_checkpoints_secs': 600, '_session_config': None, '_keep_checkpoint_max': 5, '_keep_checkpoint_every_n_hours': 10000, '_log_step_count_steps': 100, '_service': None, '_cluster_spec': <tensorflow.python.training.server_lib.ClusterSpec object at 0x0000022106C09588>, '_task_type': 'worker', '_task_id': 0, '_global_id_in_cluster': 0, '_master': '', '_evaluation_master': '', '_is_chief': True, '_num_ps_replicas': 0, '_num_worker_replicas': 1}\n"
     ]
    }
   ],
   "source": [
    "feature_columns = [tf.feature_column.numeric_column('pixels', shape=[28,28])]\n",
    "classifier = tf.estimator.LinearClassifier(\n",
    "    feature_columns=feature_columns,\n",
    "    n_classes=10,\n",
    "    model_dir='./fashion-model'\n",
    ")"
   ]
  },
  {
   "cell_type": "code",
   "execution_count": 4,
   "metadata": {},
   "outputs": [],
   "source": [
    "def generate_labelled_input_fn(csv_files, batch_size):\n",
    "    def input_fn():\n",
    "        file_queue = tf.train.string_input_producer(csv_files)\n",
    "        textLine_reader = tf.TextLineReader(skip_header_lines=1)\n",
    "        _, rows = textLine_reader.read_up_to(file_queue, num_records=100*batch_size)\n",
    "        expanded_rows = tf.expand_dims(rows, axis=-1)\n",
    "        \n",
    "        shuffled_rows = tf.train.shuffle_batch(\n",
    "            [expanded_rows],\n",
    "            batch_size=batch_size,\n",
    "            capacity=20*batch_size,\n",
    "            min_after_dequeue=5*batch_size,\n",
    "            enqueue_many=True\n",
    "        )\n",
    "\n",
    "        record_defaults = [[0] for _ in range(28*28+1)]\n",
    "\n",
    "        columns = tf.decode_csv(shuffled_rows, record_defaults=record_defaults)\n",
    "\n",
    "        labels = columns[0]\n",
    "\n",
    "        pixels = tf.concat(columns[1:], axis=1)\n",
    "\n",
    "        return {'pixels': pixels}, labels\n",
    "    \n",
    "    return input_fn"
   ]
  },
  {
   "cell_type": "code",
   "execution_count": 5,
   "metadata": {},
   "outputs": [],
   "source": [
    "BATCH_SIZE = 40\n",
    "TRAIN_STEPS = 2500"
   ]
  },
  {
   "cell_type": "code",
   "execution_count": 6,
   "metadata": {},
   "outputs": [
    {
     "name": "stdout",
     "output_type": "stream",
     "text": [
      "INFO:tensorflow:Calling model_fn.\n",
      "INFO:tensorflow:Done calling model_fn.\n",
      "INFO:tensorflow:Create CheckpointSaverHook.\n",
      "INFO:tensorflow:Graph was finalized.\n",
      "INFO:tensorflow:Restoring parameters from ./fashion-model\\model.ckpt-37000\n",
      "INFO:tensorflow:Running local_init_op.\n",
      "INFO:tensorflow:Done running local_init_op.\n",
      "INFO:tensorflow:Saving checkpoints for 37001 into ./fashion-model\\model.ckpt.\n",
      "INFO:tensorflow:loss = 461.52597, step = 37001\n",
      "INFO:tensorflow:global_step/sec: 44.4599\n",
      "INFO:tensorflow:loss = 387.54587, step = 37101 (2.238 sec)\n",
      "INFO:tensorflow:global_step/sec: 70.5124\n",
      "INFO:tensorflow:loss = 173.80042, step = 37201 (1.415 sec)\n",
      "INFO:tensorflow:global_step/sec: 71.4485\n",
      "INFO:tensorflow:loss = 1096.4036, step = 37301 (1.400 sec)\n",
      "INFO:tensorflow:global_step/sec: 71.7706\n",
      "INFO:tensorflow:loss = 484.35614, step = 37401 (1.395 sec)\n",
      "INFO:tensorflow:global_step/sec: 71.8016\n",
      "INFO:tensorflow:loss = 1139.1398, step = 37501 (1.390 sec)\n",
      "INFO:tensorflow:global_step/sec: 56.484\n",
      "INFO:tensorflow:loss = 488.5569, step = 37601 (1.772 sec)\n",
      "INFO:tensorflow:global_step/sec: 64.7756\n",
      "INFO:tensorflow:loss = 373.63925, step = 37701 (1.545 sec)\n",
      "INFO:tensorflow:global_step/sec: 72.3643\n",
      "INFO:tensorflow:loss = 693.75757, step = 37801 (1.378 sec)\n",
      "INFO:tensorflow:global_step/sec: 82.9765\n",
      "INFO:tensorflow:loss = 352.08447, step = 37901 (1.209 sec)\n",
      "INFO:tensorflow:global_step/sec: 66.5756\n",
      "INFO:tensorflow:loss = 306.48535, step = 38001 (1.500 sec)\n",
      "INFO:tensorflow:global_step/sec: 84.5124\n",
      "INFO:tensorflow:loss = 759.28235, step = 38101 (1.183 sec)\n",
      "INFO:tensorflow:global_step/sec: 83.9419\n",
      "INFO:tensorflow:loss = 285.4665, step = 38201 (1.193 sec)\n",
      "INFO:tensorflow:global_step/sec: 82.9776\n",
      "INFO:tensorflow:loss = 361.33313, step = 38301 (1.204 sec)\n",
      "INFO:tensorflow:global_step/sec: 74.4236\n",
      "INFO:tensorflow:loss = 479.81934, step = 38401 (1.346 sec)\n",
      "INFO:tensorflow:global_step/sec: 73.7067\n",
      "INFO:tensorflow:loss = 439.50604, step = 38501 (1.356 sec)\n",
      "INFO:tensorflow:global_step/sec: 83.1594\n",
      "INFO:tensorflow:loss = 513.05, step = 38601 (1.201 sec)\n",
      "INFO:tensorflow:global_step/sec: 88.7992\n",
      "INFO:tensorflow:loss = 552.9073, step = 38701 (1.129 sec)\n",
      "INFO:tensorflow:global_step/sec: 72.742\n",
      "INFO:tensorflow:loss = 1013.3729, step = 38801 (1.374 sec)\n",
      "INFO:tensorflow:global_step/sec: 70.8807\n",
      "INFO:tensorflow:loss = 1271.4453, step = 38901 (1.412 sec)\n",
      "INFO:tensorflow:global_step/sec: 73.9232\n",
      "INFO:tensorflow:loss = 341.31952, step = 39001 (1.351 sec)\n",
      "INFO:tensorflow:global_step/sec: 70.6455\n",
      "INFO:tensorflow:loss = 1009.6929, step = 39101 (1.415 sec)\n",
      "INFO:tensorflow:global_step/sec: 74.628\n",
      "INFO:tensorflow:loss = 483.78796, step = 39201 (1.341 sec)\n",
      "INFO:tensorflow:global_step/sec: 73.7074\n",
      "INFO:tensorflow:loss = 1539.7744, step = 39301 (1.358 sec)\n",
      "INFO:tensorflow:global_step/sec: 92.8994\n",
      "INFO:tensorflow:loss = 336.11887, step = 39401 (1.075 sec)\n",
      "INFO:tensorflow:Saving checkpoints for 39500 into ./fashion-model\\model.ckpt.\n",
      "INFO:tensorflow:Loss for final step: 571.58527.\n"
     ]
    },
    {
     "data": {
      "text/plain": [
       "<tensorflow.python.estimator.canned.linear.LinearClassifier at 0x22177fcf0f0>"
      ]
     },
     "execution_count": 6,
     "metadata": {},
     "output_type": "execute_result"
    }
   ],
   "source": [
    "classifier.train(\n",
    "    input_fn=generate_labelled_input_fn([train_file], BATCH_SIZE),\n",
    "    steps=TRAIN_STEPS\n",
    ")"
   ]
  },
  {
   "cell_type": "code",
   "execution_count": 7,
   "metadata": {},
   "outputs": [
    {
     "name": "stdout",
     "output_type": "stream",
     "text": [
      "INFO:tensorflow:Calling model_fn.\n",
      "INFO:tensorflow:Done calling model_fn.\n",
      "INFO:tensorflow:Starting evaluation at 2018-03-06-06:36:11\n",
      "INFO:tensorflow:Graph was finalized.\n",
      "INFO:tensorflow:Restoring parameters from ./fashion-model\\model.ckpt-39500\n",
      "INFO:tensorflow:Running local_init_op.\n",
      "INFO:tensorflow:Done running local_init_op.\n",
      "INFO:tensorflow:Evaluation [10/100]\n",
      "INFO:tensorflow:Evaluation [20/100]\n",
      "INFO:tensorflow:Evaluation [30/100]\n",
      "INFO:tensorflow:Evaluation [40/100]\n",
      "INFO:tensorflow:Evaluation [50/100]\n",
      "INFO:tensorflow:Evaluation [60/100]\n",
      "INFO:tensorflow:Evaluation [70/100]\n",
      "INFO:tensorflow:Evaluation [80/100]\n",
      "INFO:tensorflow:Evaluation [90/100]\n",
      "INFO:tensorflow:Evaluation [100/100]\n",
      "INFO:tensorflow:Finished evaluation at 2018-03-06-06:36:14\n",
      "INFO:tensorflow:Saving dict for global step 39500: accuracy = 0.8055, average_loss = 18.70167, global_step = 39500, loss = 748.0668\n"
     ]
    },
    {
     "data": {
      "text/plain": [
       "{'accuracy': 0.8055,\n",
       " 'average_loss': 18.70167,\n",
       " 'global_step': 39500,\n",
       " 'loss': 748.0668}"
      ]
     },
     "execution_count": 7,
     "metadata": {},
     "output_type": "execute_result"
    }
   ],
   "source": [
    "classifier.evaluate(\n",
    "    input_fn=generate_labelled_input_fn([test_file], BATCH_SIZE),\n",
    "    steps=100\n",
    ")"
   ]
  },
  {
   "cell_type": "code",
   "execution_count": 8,
   "metadata": {},
   "outputs": [],
   "source": [
    "CLASSES = {\n",
    "    '0': 'T-shirt/top',\n",
    "    '1': 'Trouser',\n",
    "    '2': 'Pullover',\n",
    "    '3': 'Dress',\n",
    "    '4': 'Coat',\n",
    "    '5': 'Sandal',\n",
    "    '6': 'Shirt',\n",
    "    '7': 'Sneaker',\n",
    "    '8': 'Bag',\n",
    "    '9': 'Ankle boot'\n",
    "}"
   ]
  },
  {
   "cell_type": "code",
   "execution_count": 9,
   "metadata": {},
   "outputs": [
    {
     "data": {
      "text/plain": [
       "<matplotlib.image.AxesImage at 0x22193306630>"
      ]
     },
     "execution_count": 9,
     "metadata": {},
     "output_type": "execute_result"
    },
    {
     "data": {
      "image/png": "[encoded data removed]",
      "text/plain": [
       "<matplotlib.figure.Figure at 0x221767c2d30>"
      ]
     },
     "metadata": {},
     "output_type": "display_data"
    }
   ],
   "source": [
    "test_data = pd.read_csv(test_file)\n",
    "sample_data = test_data.sample()\n",
    "\n",
    "sample = list(sample_data.iloc[0])\n",
    "label = sample[0]\n",
    "pixels = sample[1:]\n",
    "\n",
    "image_array = np.asarray(pixels, dtype=np.float32).reshape((28, 28))\n",
    "plt.imshow(image_array, cmap='gray')"
   ]
  },
  {
   "cell_type": "code",
   "execution_count": 10,
   "metadata": {},
   "outputs": [],
   "source": [
    "def generate_prediction_input_fn(image_arrays):\n",
    "    def input_fn():\n",
    "        queue = tf.train.input_producer(\n",
    "            tf.constant(np.asarray(image_arrays)),\n",
    "            num_epochs=1\n",
    "        )\n",
    "        \n",
    "        image = queue.dequeue()\n",
    "        return {'pixels': [image]}\n",
    "    \n",
    "    return input_fn"
   ]
  },
  {
   "cell_type": "code",
   "execution_count": 11,
   "metadata": {},
   "outputs": [],
   "source": [
    "predictions = classifier.predict(\n",
    "    generate_prediction_input_fn([image_array]),\n",
    "    predict_keys=['probabilities', 'classes']\n",
    ")"
   ]
  },
  {
   "cell_type": "code",
   "execution_count": 12,
   "metadata": {},
   "outputs": [
    {
     "name": "stdout",
     "output_type": "stream",
     "text": [
      "INFO:tensorflow:Calling model_fn.\n",
      "INFO:tensorflow:Done calling model_fn.\n",
      "INFO:tensorflow:Graph was finalized.\n",
      "INFO:tensorflow:Restoring parameters from ./fashion-model\\model.ckpt-39500\n",
      "INFO:tensorflow:Running local_init_op.\n",
      "INFO:tensorflow:Done running local_init_op.\n"
     ]
    }
   ],
   "source": [
    "prediction = next(predictions)\n",
    "# print('Prediction output: {}'.format(prediction))"
   ]
  },
  {
   "cell_type": "code",
   "execution_count": 13,
   "metadata": {},
   "outputs": [
    {
     "name": "stdout",
     "output_type": "stream",
     "text": [
      "{'probabilities': array([1.0000000e+00, 0.0000000e+00, 2.2853594e-14, 0.0000000e+00,\n",
      "       0.0000000e+00, 0.0000000e+00, 2.2856651e-36, 0.0000000e+00,\n",
      "       0.0000000e+00, 0.0000000e+00], dtype=float32), 'classes': array([b'0'], dtype=object)}\n"
     ]
    }
   ],
   "source": [
    "print(prediction)"
   ]
  },
  {
   "cell_type": "code",
   "execution_count": 14,
   "metadata": {},
   "outputs": [
    {
     "name": "stdout",
     "output_type": "stream",
     "text": [
      "Actual label: 2 - Pullover\n",
      "Predicted class: 0 - T-shirt/top with probability 1.0\n"
     ]
    }
   ],
   "source": [
    "print('Actual label: {} - {}'.format(label, CLASSES[str(label)]))\n",
    "predicted_class = prediction['classes'][0].decode('utf-8')\n",
    "probability = prediction['probabilities'][int(predicted_class)]\n",
    "print('Predicted class: {} - {} with probability {}'.format(\n",
    "    predicted_class,\n",
    "    CLASSES[predicted_class],\n",
    "    probability\n",
    "))"
   ]
  },
  {
   "cell_type": "code",
   "execution_count": null,
   "metadata": {},
   "outputs": [],
   "source": []
  }
 ],
 "metadata": {
  "kernelspec": {
   "display_name": "Python 3",
   "language": "python",
   "name": "python3"
  },
  "language_info": {
   "codemirror_mode": {
    "name": "ipython",
    "version": 3
   },
   "file_extension": ".py",
   "mimetype": "text/x-python",
   "name": "python",
   "nbconvert_exporter": "python",
   "pygments_lexer": "ipython3",
   "version": "3.6.4"
  }
 },
 "nbformat": 4,
 "nbformat_minor": 2
}
