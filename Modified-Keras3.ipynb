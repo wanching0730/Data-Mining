{
 "cells": [
  {
   "cell_type": "code",
   "execution_count": 10,
   "metadata": {},
   "outputs": [],
   "source": [
    "from keras.models import Sequential\n",
    "from keras.layers import Conv2D, MaxPooling2D, Dense, Flatten, Dropout\n",
    "from keras.optimizers import Adam\n",
    "from keras.callbacks import TensorBoard\n",
    "from keras.utils import to_categorical\n",
    "import keras\n",
    "\n",
    "import utils.reader as reader\n",
    "import numpy as np\n",
    "import pandas as pd\n",
    "import matplotlib.pyplot as plt\n",
    "from sklearn.externals import joblib\n",
    "\n",
    "from sklearn.model_selection import train_test_split"
   ]
  },
  {
   "cell_type": "code",
   "execution_count": 11,
   "metadata": {},
   "outputs": [
    {
     "name": "stdout",
     "output_type": "stream",
     "text": [
      "(60000, 784)\n",
      "(10000, 784)\n"
     ]
    }
   ],
   "source": [
    "x_train, y_train = reader.load_mnist('data/fashion', kind='train')\n",
    "x_test, y_test = reader.load_mnist('data/fashion', kind='t10k')\n",
    "\n",
    "print(x_train.shape)\n",
    "print(x_test.shape)"
   ]
  },
  {
   "cell_type": "code",
   "execution_count": 12,
   "metadata": {},
   "outputs": [],
   "source": [
    "# split the training data into train and validate arrays\n",
    "\n",
    "x_train, x_validate, y_train, y_validate = train_test_split(\n",
    "    x_train, y_train, test_size=0.2, random_state=12345,\n",
    ")"
   ]
  },
  {
   "cell_type": "code",
   "execution_count": 13,
   "metadata": {},
   "outputs": [
    {
     "data": {
      "image/png": "[encoded data removed]",
      "text/plain": [
       "<matplotlib.figure.Figure at 0x1d73f32f550>"
      ]
     },
     "metadata": {},
     "output_type": "display_data"
    }
   ],
   "source": [
    "image = x_train[50, :].reshape((28, 28))\n",
    "\n",
    "plt.imshow(image)\n",
    "plt.show()"
   ]
  },
  {
   "cell_type": "code",
   "execution_count": 14,
   "metadata": {},
   "outputs": [
    {
     "name": "stdout",
     "output_type": "stream",
     "text": [
      "x_train shape: (48000, 28, 28, 1)\n",
      "x_test shape: (10000, 28, 28, 1)\n",
      "x_validate shape: (12000, 28, 28, 1)\n"
     ]
    }
   ],
   "source": [
    "x_train = x_train.reshape(x_train.shape[0], *(28,28,1))\n",
    "x_test = x_test.reshape(x_test.shape[0], *(28,28,1))\n",
    "x_validate = x_validate.reshape(x_validate.shape[0], *(28,28,1))\n",
    "\n",
    "print('x_train shape: {}'.format(x_train.shape))\n",
    "print('x_test shape: {}'.format(x_test.shape))\n",
    "print('x_validate shape: {}'.format(x_validate.shape))"
   ]
  },
  {
   "cell_type": "code",
   "execution_count": 15,
   "metadata": {},
   "outputs": [],
   "source": [
    "cnn_model = Sequential([\n",
    "    Conv2D(filters=32, kernel_size=3, activation='relu', input_shape=(28,28,1)),\n",
    "          MaxPooling2D(pool_size=2),\n",
    "          Dropout(0.2),\n",
    "          Flatten(),\n",
    "          Dense(32, activation='relu'),\n",
    "          Dense(10, activation='softmax')\n",
    "           ])\n"
   ]
  },
  {
   "cell_type": "code",
   "execution_count": 16,
   "metadata": {},
   "outputs": [],
   "source": [
    "# tensorboard = TensorBoard(\n",
    "#     log_dir=r'logs\\{}'.format('cnn_llayer'),\n",
    "#     write_graph=True,\n",
    "#     write_grads=True,\n",
    "#     histogram_freq=1,\n",
    "#     write_images=True)\n",
    "\n",
    "cnn_model.compile(\n",
    "    loss='sparse_categorical_crossentropy',\n",
    "    optimizer=Adam(lr=0.001),\n",
    "    metrics=['accuracy'])"
   ]
  },
  {
   "cell_type": "code",
   "execution_count": 17,
   "metadata": {
    "scrolled": true
   },
   "outputs": [
    {
     "name": "stdout",
     "output_type": "stream",
     "text": [
      "Train on 48000 samples, validate on 12000 samples\n",
      "Epoch 1/10\n",
      "48000/48000 [==============================] - 13s 275us/step - loss: 6.7384 - acc: 0.5470 - val_loss: 4.0768 - val_acc: 0.5492\n",
      "Epoch 2/10\n",
      "48000/48000 [==============================] - 12s 255us/step - loss: 0.9356 - acc: 0.7274 - val_loss: 0.5012 - val_acc: 0.8167\n",
      "Epoch 3/10\n",
      "48000/48000 [==============================] - 12s 254us/step - loss: 0.4459 - acc: 0.8389 - val_loss: 0.3854 - val_acc: 0.8707\n",
      "Epoch 4/10\n",
      "48000/48000 [==============================] - 12s 255us/step - loss: 0.3634 - acc: 0.8664 - val_loss: 0.3463 - val_acc: 0.8830\n",
      "Epoch 5/10\n",
      "48000/48000 [==============================] - 12s 254us/step - loss: 0.3191 - acc: 0.8807 - val_loss: 0.3266 - val_acc: 0.8859\n",
      "Epoch 6/10\n",
      "48000/48000 [==============================] - 12s 254us/step - loss: 0.2936 - acc: 0.8878 - val_loss: 0.3104 - val_acc: 0.8961\n",
      "Epoch 7/10\n",
      "48000/48000 [==============================] - 12s 254us/step - loss: 0.2684 - acc: 0.8979 - val_loss: 0.3024 - val_acc: 0.8963\n",
      "Epoch 8/10\n",
      "48000/48000 [==============================] - 12s 254us/step - loss: 0.2551 - acc: 0.9007 - val_loss: 0.3028 - val_acc: 0.8986\n",
      "Epoch 9/10\n",
      "48000/48000 [==============================] - 12s 255us/step - loss: 0.2431 - acc: 0.9072 - val_loss: 0.2946 - val_acc: 0.9033\n",
      "Epoch 10/10\n",
      "48000/48000 [==============================] - 12s 256us/step - loss: 0.2310 - acc: 0.9120 - val_loss: 0.3005 - val_acc: 0.9012\n"
     ]
    }
   ],
   "source": [
    "model_history = cnn_model.fit(\n",
    "    x_train, y_train, \n",
    "    epochs=10, verbose=1, \n",
    "    batch_size=512,\n",
    "    validation_data=(x_validate,y_validate),\n",
    "#     callbacks=[tensorboard]\n",
    ")"
   ]
  },
  {
   "cell_type": "code",
   "execution_count": 19,
   "metadata": {},
   "outputs": [],
   "source": [
    "# joblib.dump(cnn_model, 'keras.pkl')"
   ]
  },
  {
   "cell_type": "code",
   "execution_count": 22,
   "metadata": {},
   "outputs": [
    {
     "name": "stdout",
     "output_type": "stream",
     "text": [
      "<keras.callbacks.History object at 0x000001D7307ED400>\n"
     ]
    }
   ],
   "source": [
    "print(model_history)"
   ]
  },
  {
   "cell_type": "code",
   "execution_count": 24,
   "metadata": {},
   "outputs": [
    {
     "data": {
      "image/png": "[encoded data removed]",
      "text/plain": [
       "<matplotlib.figure.Figure at 0x1d73073c320>"
      ]
     },
     "metadata": {},
     "output_type": "display_data"
    },
    {
     "data": {
      "image/png": "[encoded data removed]",
      "text/plain": [
       "<matplotlib.figure.Figure at 0x1d73073c2e8>"
      ]
     },
     "metadata": {},
     "output_type": "display_data"
    },
    {
     "name": "stdout",
     "output_type": "stream",
     "text": [
      "Test Loss: 0.3309\n",
      "Test Accuracy: 0.8897\n"
     ]
    }
   ],
   "source": [
    "def display_history(model_history):\n",
    "    plt.plot(model_history.history['acc'])\n",
    "    plt.plot(model_history.history['val_acc'])\n",
    "    plt.xlabel('Epoch')\n",
    "    plt.ylabel('Accuracy')\n",
    "    plt.legend(['train_accuracy', 'test_accuracy'], loc='best')\n",
    "    plt.show()\n",
    "    \n",
    "def display_histogram(model_history):\n",
    "    plt.hist(model_history.history['acc'])\n",
    "    plt.hist(model_history.history['val_acc'])\n",
    "    plt.ylabel('accuracy')\n",
    "    plt.xlabel('epoch')\n",
    "    plt.legend(['train_accuracy', 'test_accuracy'], loc='best')\n",
    "    plt.show()\n",
    "\n",
    "display_history(model_history)\n",
    "display_histogram(model_history)\n",
    "\n",
    "score = cnn_model.evaluate(x_test, y_test, verbose=0)\n",
    "print('Test Loss: {:.4f}'.format(score[0]))\n",
    "print('Test Accuracy: {:.4f}'.format(score[1]))"
   ]
  },
  {
   "cell_type": "code",
   "execution_count": 1,
   "metadata": {},
   "outputs": [
    {
     "ename": "NameError",
     "evalue": "name 'model_history' is not defined",
     "output_type": "error",
     "traceback": [
      "\u001b[1;31m---------------------------------------------------------------------------\u001b[0m",
      "\u001b[1;31mNameError\u001b[0m                                 Traceback (most recent call last)",
      "\u001b[1;32m<ipython-input-1-8e4a41a80f48>\u001b[0m in \u001b[0;36m<module>\u001b[1;34m()\u001b[0m\n\u001b[1;32m----> 1\u001b[1;33m \u001b[0mprint\u001b[0m\u001b[1;33m(\u001b[0m\u001b[0mmodel_history\u001b[0m\u001b[1;33m.\u001b[0m\u001b[0mhistory\u001b[0m\u001b[1;33m[\u001b[0m\u001b[1;34m'acc'\u001b[0m\u001b[1;33m]\u001b[0m\u001b[1;33m)\u001b[0m\u001b[1;33m\u001b[0m\u001b[0m\n\u001b[0m",
      "\u001b[1;31mNameError\u001b[0m: name 'model_history' is not defined"
     ]
    }
   ],
   "source": [
    "print(model_history.history['acc'])"
   ]
  },
  {
   "cell_type": "code",
   "execution_count": null,
   "metadata": {
    "collapsed": true
   },
   "outputs": [],
   "source": []
  }
 ],
 "metadata": {
  "kernelspec": {
   "display_name": "Python 3",
   "language": "python",
   "name": "python3"
  },
  "language_info": {
   "codemirror_mode": {
    "name": "ipython",
    "version": 3
   },
   "file_extension": ".py",
   "mimetype": "text/x-python",
   "name": "python",
   "nbconvert_exporter": "python",
   "pygments_lexer": "ipython3",
   "version": "3.6.4"
  }
 },
 "nbformat": 4,
 "nbformat_minor": 2
}
